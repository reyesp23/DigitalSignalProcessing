{
 "cells": [
  {
   "cell_type": "code",
   "execution_count": 11,
   "id": "eca356d0",
   "metadata": {},
   "outputs": [],
   "source": [
    "import pandas as pd\n",
    "import numpy as np\n",
    "from matplotlib import pyplot as plt\n",
    "from scipy.fft import fft, ifft, fftshift"
   ]
  },
  {
   "cell_type": "markdown",
   "id": "4d721b87",
   "metadata": {},
   "source": [
    "## Convolution"
   ]
  },
  {
   "cell_type": "markdown",
   "id": "d17303c8",
   "metadata": {},
   "source": [
    "#### Define signal and filter"
   ]
  },
  {
   "cell_type": "code",
   "execution_count": 12,
   "id": "313eb19e",
   "metadata": {},
   "outputs": [],
   "source": [
    "x = np.array([3, 4, 1, 2, 5, 6, 7, 8, 2, 4])\n",
    "h = np.array([0.25, 0.25, 0.25])"
   ]
  },
  {
   "cell_type": "markdown",
   "id": "e3960c76",
   "metadata": {},
   "source": [
    "#### Convolution"
   ]
  },
  {
   "cell_type": "code",
   "execution_count": 13,
   "id": "a6f766b5",
   "metadata": {},
   "outputs": [],
   "source": [
    "def convolve(x, h):\n",
    "    # zero pad the signal\n",
    "    x_padded = np.pad(x, (len(h)-1, len(h)-1), 'constant', constant_values=(0,0))\n",
    "    \n",
    "    # length of convolution: N + M - 1\n",
    "    size = len(x)+len(h)-1\n",
    "    \n",
    "    # array to store result values\n",
    "    result = np.zeros(size, dtype='float32')\n",
    "    \n",
    "    # convolve\n",
    "    for i in range(size):\n",
    "        for j in range(len(h)):\n",
    "            result[i] += x_padded[i+j]*h[j]\n",
    "            \n",
    "    return result"
   ]
  },
  {
   "cell_type": "code",
   "execution_count": 14,
   "id": "e37ff9ee",
   "metadata": {},
   "outputs": [
    {
     "name": "stdout",
     "output_type": "stream",
     "text": [
      "[0.75 1.75 2.   1.75 2.   3.25 4.5  5.25 4.25 3.5  1.5  1.  ]\n",
      "[0.75 1.75 2.   1.75 2.   3.25 4.5  5.25 4.25 3.5  1.5  1.  ]\n"
     ]
    }
   ],
   "source": [
    "print(convolve(x,h))\n",
    "print(np.convolve(x,h))"
   ]
  },
  {
   "cell_type": "markdown",
   "id": "ba097c8f",
   "metadata": {},
   "source": [
    "#### Convolution with constant filter"
   ]
  },
  {
   "cell_type": "code",
   "execution_count": 15,
   "id": "e032b00a",
   "metadata": {},
   "outputs": [
    {
     "name": "stdout",
     "output_type": "stream",
     "text": [
      "[0.75 1.75 2.   1.75 2.   3.25 4.5  5.25 4.25 3.5  1.5  1.  ]\n",
      "[0.75 1.75 2.   1.75 2.   3.25 4.5  5.25 4.25 3.5  1.5  1.  ]\n"
     ]
    }
   ],
   "source": [
    "def convolve_constant(x, h):\n",
    "    # zero pad the signal\n",
    "    x_padded = np.pad(x, (len(h)-1, len(h)-1), 'constant', constant_values=(0,0))\n",
    "    \n",
    "    # length of convolution: N + M - 1\n",
    "    size = len(x)+len(h)-1\n",
    "    \n",
    "    # array to store result values\n",
    "    result = np.zeros(size, dtype='float32')\n",
    "\n",
    "    for i in range(size):\n",
    "        window = x_padded[i : i + len(h)]\n",
    "        window_result = h[0] * np.sum(window)\n",
    "        result[i] = window_result\n",
    "    return result\n",
    "\n",
    "print(convolve_constant(x,h)) \n",
    "print(np.convolve(x, h))"
   ]
  },
  {
   "cell_type": "markdown",
   "id": "70426f54",
   "metadata": {},
   "source": [
    "#### Compare time"
   ]
  },
  {
   "cell_type": "code",
   "execution_count": 16,
   "id": "95b50358",
   "metadata": {},
   "outputs": [
    {
     "name": "stdout",
     "output_type": "stream",
     "text": [
      "Convolution:  1.5659780502319336\n",
      "Convolution w const filter:  0.005144834518432617\n"
     ]
    }
   ],
   "source": [
    "import time\n",
    "\n",
    "x_long = np.tile(x,100)\n",
    "h_long = np.tile(h,100)\n",
    "\n",
    "t0 = time.time()\n",
    "convolve(x_long, h_long)\n",
    "t1 = time.time()\n",
    "\n",
    "convolve_constant(x_long, h_long)\n",
    "t2 = time.time()\n",
    "\n",
    "print('Convolution: ', t1-t0)\n",
    "print('Convolution w const filter: ', t2-t1)"
   ]
  },
  {
   "cell_type": "markdown",
   "id": "c5c6f108",
   "metadata": {},
   "source": [
    "#### Frequency domain convolution"
   ]
  },
  {
   "cell_type": "code",
   "execution_count": 17,
   "id": "60efc87e",
   "metadata": {},
   "outputs": [],
   "source": [
    "def freq_convolve(x, h):\n",
    "    N = len(x) + len(h) - 1\n",
    "    x_padded = np.pad(x, (0,N - len(x)), 'constant', constant_values=(0,0))\n",
    "    x_fft = fft(x_padded)\n",
    "    h_padded = np.pad(h, (0,N - len(h)), 'constant', constant_values=(0,0))\n",
    "    h_fft = fft(h_padded)\n",
    "    return ifft(x_fft * h_fft).real"
   ]
  },
  {
   "cell_type": "code",
   "execution_count": 18,
   "id": "fda54cec",
   "metadata": {},
   "outputs": [
    {
     "name": "stdout",
     "output_type": "stream",
     "text": [
      "[0.75 1.75 2.   1.75 2.   3.25 4.5  5.25 4.25 3.5  1.5  1.  ]\n",
      "[0.75 1.75 2.   1.75 2.   3.25 4.5  5.25 4.25 3.5  1.5  1.  ]\n",
      "[0.75 1.75 2.   1.75 2.   3.25 4.5  5.25 4.25 3.5  1.5  1.  ]\n"
     ]
    }
   ],
   "source": [
    "print(convolve(x,h)) \n",
    "print(freq_convolve(x, h))\n",
    "print(np.convolve(x, h))"
   ]
  }
 ],
 "metadata": {
  "kernelspec": {
   "display_name": "Python 3",
   "language": "python",
   "name": "python3"
  },
  "language_info": {
   "codemirror_mode": {
    "name": "ipython",
    "version": 3
   },
   "file_extension": ".py",
   "mimetype": "text/x-python",
   "name": "python",
   "nbconvert_exporter": "python",
   "pygments_lexer": "ipython3",
   "version": "3.8.8"
  }
 },
 "nbformat": 4,
 "nbformat_minor": 5
}
