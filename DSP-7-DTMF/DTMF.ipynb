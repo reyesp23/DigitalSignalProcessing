{
 "cells": [
  {
   "cell_type": "code",
   "execution_count": 1,
   "id": "8cc6a824",
   "metadata": {},
   "outputs": [],
   "source": [
    "import numpy as np\n",
    "import matplotlib.pyplot as plt\n",
    "import scipy.io.wavfile as reader"
   ]
  },
  {
   "cell_type": "markdown",
   "id": "383c4271",
   "metadata": {},
   "source": [
    "##  Decoding Noise-Free DTMF Signals"
   ]
  },
  {
   "cell_type": "markdown",
   "id": "50108f9f",
   "metadata": {},
   "source": [
    "#### I. Goertzel Algorithm"
   ]
  },
  {
   "cell_type": "markdown",
   "id": "284f12d8",
   "metadata": {},
   "source": [
    "We calculate intermediate coefficients using an iterative approach, at the end we have the real and imaginary components of the N-Point DFT for that specific frequency. We then calculate the energy of the signal at that frequency by summing the squares of the real and imaginary parts. We use this inside a for loop that runs through all the frequencies of interest. Our output is an array of energy values for each of the frequencies of interest."
   ]
  },
  {
   "cell_type": "markdown",
   "id": "27531bed",
   "metadata": {},
   "source": [
    "<img width=30% src=\"goertzel.png\">"
   ]
  },
  {
   "cell_type": "code",
   "execution_count": 2,
   "id": "e40976e4",
   "metadata": {},
   "outputs": [],
   "source": [
    "def goertzel(x, fs, freqs, Ks, N):\n",
    "    \n",
    "    output = []\n",
    "    for k in Ks:\n",
    "        cos_w = np.cos(2*np.pi*k/N)\n",
    "        sin_w = np.sin(2*np.pi*k/N)\n",
    "        c = 2*cos_w\n",
    "        \n",
    "        q1 = 0\n",
    "        q2 = 0\n",
    "        for n in range(0, N):\n",
    "            q0 = x[n] + c*q1 - q2\n",
    "            q2 = q1\n",
    "            q1 = q0\n",
    "\n",
    "        real = cos_w*q1 - q2\n",
    "        imag = sin_w*q1\n",
    "        energy = np.sqrt(real**2+imag**2) \n",
    "        output.append(energy)\n",
    "\n",
    "    return np.array(output)"
   ]
  },
  {
   "cell_type": "markdown",
   "id": "2506e3f1",
   "metadata": {},
   "source": [
    "#### II. Create lookup table"
   ]
  },
  {
   "cell_type": "markdown",
   "id": "e2c87a07",
   "metadata": {},
   "source": [
    "A function to find a digit given two frequencies. It uses a matrix consisting of the different frequency combinations and a 1D array of corresponding digits. For each pair of frequencies given, the keypad frequency matrix is traversed and used as comparison. If the frequency values match, the index is used to get the value from the digits array. I use a set so the order of the frequencies is not relevant."
   ]
  },
  {
   "cell_type": "markdown",
   "id": "1208075f",
   "metadata": {},
   "source": [
    "<img width=30% src=\"touchtone.png\">"
   ]
  },
  {
   "cell_type": "code",
   "execution_count": 3,
   "id": "5898c4bb",
   "metadata": {},
   "outputs": [],
   "source": [
    "def findDigit(x):\n",
    "    rows = [697, 770, 852, 941]\n",
    "    columns = [1209, 1336, 1477, 1633]\n",
    "\n",
    "    freqs = []\n",
    "    for r in rows:\n",
    "        for c in columns:\n",
    "            freqs.append([c, r])\n",
    "            \n",
    "    freqs = np.array(freqs)\n",
    "    touchtone = np.array([\"1\", \"2\", \"3\", \"A\", \"4\", \"5\", \"6\", \"B\", \"7\", \"8\", \"9\", \"C\", \"*\", \"0\", \"#\", \"D\"])\n",
    "    \n",
    "    for i, f in enumerate(freqs):\n",
    "        if set(x)==set(f): return touchtone[i]\n",
    "    return \"Invalid\""
   ]
  },
  {
   "cell_type": "markdown",
   "id": "0247680b",
   "metadata": {},
   "source": [
    "#### III. Get energy"
   ]
  },
  {
   "cell_type": "markdown",
   "id": "601fefd0",
   "metadata": {},
   "source": [
    "To get the energy at the frequencies of interest, we first compute the Ks and then call the goertzel algorithm previously defined. To compute the Ks we multiply each frequency by the number of samples N and divide by the sampling frequency. For this case we use a N of 205 and a fs of 8000Hz"
   ]
  },
  {
   "cell_type": "code",
   "execution_count": 4,
   "id": "fdaa9db5",
   "metadata": {},
   "outputs": [],
   "source": [
    "def getEnergy(x, fs, freqs, N):\n",
    "    #Calculate Ks for frequencies\n",
    "    Ks = np.round(freqs * N / fs)\n",
    "    #Get energy at each frequency of interest\n",
    "    y = goertzel(x, fs, freqs, Ks, N)\n",
    "    return y"
   ]
  },
  {
   "cell_type": "markdown",
   "id": "d139b2c0",
   "metadata": {},
   "source": [
    "#### IV. Digit decoder"
   ]
  },
  {
   "cell_type": "markdown",
   "id": "4d24242a",
   "metadata": {},
   "source": [
    "The dtmfdecode function takes the signal and the sampling frequency as input and outputs a matching digit on the touchtone keypad. To decode the signal we first compute the energy of the signal given the frequencies of interest. (Th frequencies used in the touchtone keypad). Then we make a decision if the tone is present or not based on a threshold. I decided to set my threshold as the maximum value divided by 2. I then filter the tones based on this threshold. If there are exactly two tones (frequencies) we can use the findDigit function to search for the digit in the lookup table. If there are more or less, it means it is not a dtmf digit."
   ]
  },
  {
   "cell_type": "code",
   "execution_count": 5,
   "id": "9095f7b9",
   "metadata": {},
   "outputs": [],
   "source": [
    "def dtmfdecode(x, fs):\n",
    "    #Number of samples\n",
    "    N = 205\n",
    "        \n",
    "    #Frequencies of interest\n",
    "    freqs = np.array([697, 770, 852, 941, 1209, 1336, 1477, 1633])  \n",
    "    freqs_energy = getEnergy(x, fs, freqs, N)\n",
    "    \n",
    "    #Find if tone is present based on energy threshold\n",
    "    tone_present = freqs_energy > np.amax(freqs_energy)/2\n",
    "    \n",
    "    #Filter present tones\n",
    "    tones = freqs[tone_present]\n",
    "\n",
    "    #At this point we must have two tones to find digit\n",
    "    if len(tones) != 2: return \"Not found\"\n",
    "    \n",
    "    #Find digit based on tones\n",
    "    return findDigit(tones)"
   ]
  },
  {
   "cell_type": "markdown",
   "id": "86b79648",
   "metadata": {},
   "source": [
    "#### V. Test implementation"
   ]
  },
  {
   "cell_type": "markdown",
   "id": "0559e417",
   "metadata": {},
   "source": [
    "To test the implementation, we import all soundfiles, extract signal and sampling frequency and run dtmfdecode(). We observe that they are correctly decoded."
   ]
  },
  {
   "cell_type": "code",
   "execution_count": 6,
   "id": "b503a539",
   "metadata": {},
   "outputs": [],
   "source": [
    "fs, touchtone_0 = reader.read('./soundfiles/touchtone_0.wav')\n",
    "_ , touchtone_1 = reader.read('./soundfiles/touchtone_1.wav')\n",
    "_ , touchtone_2 = reader.read('./soundfiles/touchtone_2.wav')\n",
    "_ , touchtone_3 = reader.read('./soundfiles/touchtone_3.wav')\n",
    "_ , touchtone_4 = reader.read('./soundfiles/touchtone_4.wav')\n",
    "_ , touchtone_5 = reader.read('./soundfiles/touchtone_5.wav')\n",
    "_ , touchtone_6 = reader.read('./soundfiles/touchtone_6.wav')\n",
    "_ , touchtone_7 = reader.read('./soundfiles/touchtone_7.wav')\n",
    "_ , touchtone_8 = reader.read('./soundfiles/touchtone_8.wav')\n",
    "_ , touchtone_9 = reader.read('./soundfiles/touchtone_9.wav')\n",
    "_ , touchtone_pound = reader.read('./soundfiles/touchtone_pound.wav')\n",
    "_ , touchtone_star = reader.read('./soundfiles/touchtone_star.wav')"
   ]
  },
  {
   "cell_type": "code",
   "execution_count": 7,
   "id": "0a3b4488",
   "metadata": {},
   "outputs": [
    {
     "name": "stdout",
     "output_type": "stream",
     "text": [
      "0\n",
      "1\n",
      "2\n",
      "3\n",
      "4\n",
      "5\n",
      "6\n",
      "7\n",
      "8\n",
      "9\n",
      "#\n",
      "*\n"
     ]
    }
   ],
   "source": [
    "print(dtmfdecode(touchtone_0, fs))\n",
    "print(dtmfdecode(touchtone_1, fs))\n",
    "print(dtmfdecode(touchtone_2, fs))\n",
    "print(dtmfdecode(touchtone_3, fs))\n",
    "print(dtmfdecode(touchtone_4, fs))\n",
    "print(dtmfdecode(touchtone_5, fs))\n",
    "print(dtmfdecode(touchtone_6, fs))\n",
    "print(dtmfdecode(touchtone_7, fs))\n",
    "print(dtmfdecode(touchtone_8, fs))\n",
    "print(dtmfdecode(touchtone_9, fs))\n",
    "print(dtmfdecode(touchtone_pound, fs))\n",
    "print(dtmfdecode(touchtone_star, fs))"
   ]
  },
  {
   "cell_type": "markdown",
   "id": "88f510da",
   "metadata": {},
   "source": [
    "## 2. Decoding Noise-Free DTMF Signals"
   ]
  },
  {
   "cell_type": "markdown",
   "id": "83c3b700",
   "metadata": {},
   "source": [
    "For the robust decoder, we first perform the same steps as the dtmfdecode function to find the tones present in the signal. However, we need to perform an additional step to make sure the energy of the signal is low for the 2nd harmonics of these tones. \n",
    "We first compute the 2nd harmonics by multiplying by 2 the identified tones. We get the energy of these harmonics using the getEnergy function that uses Goertzel algorithm. We then compute a energy ratio by dividing the energy of the original tones (fundamental frequencies) by the energy of their second harmonics. If this ratio is big, it means the energy of the fundamental frequencies is large compared to the harmonics, and therefore it is a valid dtmf tone. However, if the ratio is small (approaches 1) it means the energy of the harmonics is large and therefore the tone was probably produced by other source so it should not be decoded. \n",
    "To make the decision, we use a threshold on the energy ratio, I decided to use \"3\" as the threshold ratio. This means that if the energy of the harmonics is at least 1/3 of the energy of the fundamental frequency, the signal should not be considered as a dtmf tone.\n",
    "I filter out tones with harmonics using this threshold and finally perform digit decoding for the leftover tones using the findDigit function."
   ]
  },
  {
   "cell_type": "code",
   "execution_count": 8,
   "id": "bdc7488f",
   "metadata": {},
   "outputs": [],
   "source": [
    "def dtmfrobustdecode(x, fs):\n",
    "    #Number of samples\n",
    "    N = 205\n",
    "        \n",
    "    #Frequencies of interest\n",
    "    freqs = np.array([697, 770, 852, 941, 1209, 1336, 1477, 1633])  \n",
    "    freqs_energy = getEnergy(x, fs, freqs, N)\n",
    "    \n",
    "    #Find if tone is present based on energy threshold\n",
    "    tone_present = freqs_energy > np.amax(freqs_energy)/3\n",
    "    \n",
    "    #Filter present tones\n",
    "    tones = freqs[tone_present]\n",
    "\n",
    "    #Find energy for present tones\n",
    "    tones_energy = freqs_energy[tone_present]\n",
    "        \n",
    "    #Find 2 harmonics of present tones\n",
    "    harmonics = 2 * tones\n",
    "    #Find energy for these harmonics\n",
    "    harmonics_energy = getEnergy(x, fs, harmonics, N)\n",
    "    \n",
    "    #Compute energy ratio\n",
    "    energy_ratio = tones_energy/harmonics_energy\n",
    "\n",
    "    #Find if harmonics based on threshold\n",
    "    harmonic_present = energy_ratio < 3\n",
    "    \n",
    "    #Filter out tones with harmonics\n",
    "    pure_tones = tones[harmonic_present == False]\n",
    "\n",
    "    #At this point we must have two tones to find digit\n",
    "    if len(pure_tones) != 2: return \"Not found\"\n",
    "    \n",
    "    #Find digit based on tones\n",
    "    return findDigit(pure_tones)"
   ]
  },
  {
   "cell_type": "markdown",
   "id": "301273f2",
   "metadata": {},
   "source": [
    "### Test Robust system"
   ]
  },
  {
   "cell_type": "markdown",
   "id": "dc8b9e55",
   "metadata": {},
   "source": [
    "To test the robust system I synthesized signals and added 2nd harmonics."
   ]
  },
  {
   "cell_type": "code",
   "execution_count": 9,
   "id": "e8532887",
   "metadata": {},
   "outputs": [],
   "source": [
    "def SineSignal(freq, amp=1, end_time=2, Fs = 8000):\n",
    "    t = np.linspace(0, end_time, int(end_time*Fs))\n",
    "    y = amp*np.sin(2*np.pi*freq*t)\n",
    "    return y, t"
   ]
  },
  {
   "cell_type": "markdown",
   "id": "c2810769",
   "metadata": {},
   "source": [
    "#### Test on simple tones\n",
    "Using simple tones with only fundamental frequencies, the signal is correctly identified as a dtmf tone."
   ]
  },
  {
   "cell_type": "code",
   "execution_count": 10,
   "id": "68e383f7",
   "metadata": {},
   "outputs": [
    {
     "data": {
      "text/plain": [
       "'0'"
      ]
     },
     "execution_count": 10,
     "metadata": {},
     "output_type": "execute_result"
    }
   ],
   "source": [
    "f_1 = 1336\n",
    "f_2 = 941\n",
    "amp = 1000\n",
    "y1, t = SineSignal(f_1, amp, 970, fs)\n",
    "y2, t = SineSignal(f_2, amp, 970, fs)\n",
    "y = y1+y2\n",
    "dtmfrobustdecode(y, fs)"
   ]
  },
  {
   "cell_type": "markdown",
   "id": "cfd405a9",
   "metadata": {},
   "source": [
    "#### Test by adding 2 harmonics\n",
    "However, whe we add 2nd harmonics, the system outputs \"Not found\" meaning that it correctly neglected tones that have harmonics."
   ]
  },
  {
   "cell_type": "code",
   "execution_count": 11,
   "id": "5bcd697a",
   "metadata": {},
   "outputs": [
    {
     "data": {
      "text/plain": [
       "'Not found'"
      ]
     },
     "execution_count": 11,
     "metadata": {},
     "output_type": "execute_result"
    }
   ],
   "source": [
    "h1, t = SineSignal(2*f_1, 0.5*amp, 970, fs)\n",
    "h2, t = SineSignal(2*f_2, 0.5*amp, 970, fs)\n",
    "y = y1+y2+h1+h2\n",
    "dtmfrobustdecode(y, fs)"
   ]
  },
  {
   "cell_type": "markdown",
   "id": "d9e72b7d",
   "metadata": {},
   "source": [
    "#### Test on sample\n",
    "We tested the robust decoded on one of the original audio samples and got a correct decoding."
   ]
  },
  {
   "cell_type": "code",
   "execution_count": 12,
   "id": "d81ae5ba",
   "metadata": {},
   "outputs": [
    {
     "data": {
      "text/plain": [
       "'0'"
      ]
     },
     "execution_count": 12,
     "metadata": {},
     "output_type": "execute_result"
    }
   ],
   "source": [
    "dtmfrobustdecode(touchtone_0, fs)"
   ]
  },
  {
   "cell_type": "markdown",
   "id": "0f6607c5",
   "metadata": {},
   "source": [
    "#### Decode file"
   ]
  },
  {
   "cell_type": "code",
   "execution_count": 13,
   "id": "0c90e7fe",
   "metadata": {},
   "outputs": [],
   "source": [
    "fs, mystery = reader.read('./soundfiles/mystery.wav')"
   ]
  },
  {
   "cell_type": "code",
   "execution_count": 14,
   "id": "d8dbba69",
   "metadata": {},
   "outputs": [],
   "source": [
    "def decodeMultitone(x, N):\n",
    "    chunk_size = round(len(x)/N)\n",
    "    number = []\n",
    "    for i in range(0,N):\n",
    "        start = i*chunk_size\n",
    "        end = start + chunk_size\n",
    "        chunk = x[start:end]\n",
    "        digit = dtmfrobustdecode(chunk, fs)\n",
    "        print(digit)\n",
    "        if digit != \"Not found\": number.append(digit)\n",
    "    return number"
   ]
  },
  {
   "cell_type": "code",
   "execution_count": 15,
   "id": "fa18a6fe",
   "metadata": {},
   "outputs": [
    {
     "name": "stdout",
     "output_type": "stream",
     "text": [
      "Not found\n",
      "8\n",
      "6\n",
      "7\n",
      "Not found\n",
      "5\n",
      "3\n",
      "0\n",
      "9\n"
     ]
    },
    {
     "data": {
      "text/plain": [
       "['8', '6', '7', '5', '3', '0', '9']"
      ]
     },
     "execution_count": 15,
     "metadata": {},
     "output_type": "execute_result"
    }
   ],
   "source": [
    "decodeMultitone(mystery, 9)"
   ]
  },
  {
   "cell_type": "code",
   "execution_count": null,
   "id": "08078f54",
   "metadata": {},
   "outputs": [],
   "source": []
  }
 ],
 "metadata": {
  "kernelspec": {
   "display_name": "Python 3",
   "language": "python",
   "name": "python3"
  },
  "language_info": {
   "codemirror_mode": {
    "name": "ipython",
    "version": 3
   },
   "file_extension": ".py",
   "mimetype": "text/x-python",
   "name": "python",
   "nbconvert_exporter": "python",
   "pygments_lexer": "ipython3",
   "version": "3.8.8"
  }
 },
 "nbformat": 4,
 "nbformat_minor": 5
}
