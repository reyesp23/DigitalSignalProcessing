{
 "cells": [
  {
   "cell_type": "code",
   "execution_count": 1,
   "id": "e82c271a",
   "metadata": {},
   "outputs": [],
   "source": [
    "import numpy as np\n",
    "import matplotlib.pyplot as plt\n",
    "from scipy import signal\n",
    "from scipy.fft import fft, ifft, fftshift\n",
    "import scipy.io.wavfile as reader\n",
    "import cmath\n",
    "import time"
   ]
  },
  {
   "cell_type": "markdown",
   "id": "6e113402",
   "metadata": {},
   "source": [
    "## Fast Fourier Transform"
   ]
  },
  {
   "cell_type": "markdown",
   "id": "c67d8f2c",
   "metadata": {},
   "source": [
    "#### Sampling"
   ]
  },
  {
   "cell_type": "code",
   "execution_count": 2,
   "id": "dee43c9f",
   "metadata": {},
   "outputs": [
    {
     "data": {
      "text/plain": [
       "[<matplotlib.lines.Line2D at 0x7f8ae1953100>]"
      ]
     },
     "execution_count": 2,
     "metadata": {},
     "output_type": "execute_result"
    },
    {
     "data": {
      "image/png": "[encoded data removed]",
      "text/plain": [
       "<Figure size 432x288 with 1 Axes>"
      ]
     },
     "metadata": {
      "needs_background": "light"
     },
     "output_type": "display_data"
    }
   ],
   "source": [
    "# x(t) sample of 128 points (equally spaced) between 0 and 1 seconds\n",
    "n = np.linspace(0,1,128)\n",
    "x_n = np.cos(2*np.pi*n)\n",
    "plt.plot(n,x_n)"
   ]
  },
  {
   "cell_type": "markdown",
   "id": "77f0b0a0",
   "metadata": {},
   "source": [
    "### N-point DFT"
   ]
  },
  {
   "cell_type": "code",
   "execution_count": 3,
   "id": "4b405720",
   "metadata": {},
   "outputs": [],
   "source": [
    "def DTFT(x,N):\n",
    "    input_length = len(x)\n",
    "    y = []\n",
    "    w = np.linspace(0,2*np.pi,N)\n",
    "\n",
    "    for k in range(N):  \n",
    "        s = 0\n",
    "        for n in range(input_length):\n",
    "            s += x[n] * cmath.exp(-1j * w[k] * n)\n",
    "        y.append(s)\n",
    "    return y"
   ]
  },
  {
   "cell_type": "code",
   "execution_count": 4,
   "id": "c58dae05",
   "metadata": {},
   "outputs": [],
   "source": [
    "N = len(x_n)\n",
    "X_k = DTFT(x_n, N)\n",
    "w = np.linspace(0,2*np.pi,N)"
   ]
  },
  {
   "cell_type": "code",
   "execution_count": 5,
   "id": "f8d9cb7c",
   "metadata": {},
   "outputs": [
    {
     "data": {
      "text/plain": [
       "Text(0.5, 0, 'Frequency (radians)')"
      ]
     },
     "execution_count": 5,
     "metadata": {},
     "output_type": "execute_result"
    },
    {
     "data": {
      "image/png": "[encoded data removed]",
      "text/plain": [
       "<Figure size 432x288 with 1 Axes>"
      ]
     },
     "metadata": {
      "needs_background": "light"
     },
     "output_type": "display_data"
    }
   ],
   "source": [
    "plot1 = plt.figure(1)\n",
    "plt.stem(w, np.absolute(X_k))\n",
    "plt.title('DTFT')\n",
    "plt.ylabel('Magnitude')\n",
    "plt.xlabel('Frequency (radians)')"
   ]
  },
  {
   "cell_type": "markdown",
   "id": "b89cfb66",
   "metadata": {},
   "source": [
    "### 3. FFT (Radix-2)"
   ]
  },
  {
   "cell_type": "markdown",
   "id": "f10774c7",
   "metadata": {},
   "source": [
    "#### (a) Separate even and odd indices"
   ]
  },
  {
   "cell_type": "code",
   "execution_count": 6,
   "id": "5d5d5e4b",
   "metadata": {},
   "outputs": [],
   "source": [
    "def separate(x, N):\n",
    "    x1 = []\n",
    "    x2 = []\n",
    "    for i in range(int(N/2)):\n",
    "        x1.append(x[2*i])\n",
    "        x2.append(x[2*i+1])\n",
    "    return x1, x2"
   ]
  },
  {
   "cell_type": "markdown",
   "id": "5c949ccb",
   "metadata": {},
   "source": [
    "#### (b) Recursive MyFFT"
   ]
  },
  {
   "cell_type": "code",
   "execution_count": 7,
   "id": "d5dbf3b0",
   "metadata": {},
   "outputs": [],
   "source": [
    "def FFT(x, N):\n",
    "    if N < 2: return x\n",
    "    else:\n",
    "        x1, x2 = separate(x, N)\n",
    "        X1 = FFT(x1, N/2)\n",
    "        X2 = FFT(x2, N/2)\n",
    "        phase_factor = np.exp(-2j * np.pi * np.arange(N) / N)\n",
    "    return np.concatenate([X1 + phase_factor[:int(N/2)] * X2, X1 + phase_factor[int(N/2):] * X2])"
   ]
  },
  {
   "cell_type": "markdown",
   "id": "ec05ff13",
   "metadata": {},
   "source": [
    "If N < 2, the output is simply equal to the input, therefore we simply return x. \n",
    "In the else statement we first separate x into x1 and x2 (even and odd indices) by using the previously created function. Then, we call recursively MyFFT with input x1 and integer N/2 to get X1 and with input x2 and integer N/2 to get X2. \n",
    "We concatenate both X1 and X2 using the butterfly operation. For this step we require the phase factor: $W_{n}^{k} \\ =e^{−j2\\pi k/N}$"
   ]
  },
  {
   "cell_type": "markdown",
   "id": "6a482348",
   "metadata": {},
   "source": [
    "### 4. Compute FFT"
   ]
  },
  {
   "cell_type": "code",
   "execution_count": 8,
   "id": "0d5eb4ef",
   "metadata": {},
   "outputs": [
    {
     "data": {
      "text/plain": [
       "Text(0.5, 0, 'Frequency (radians)')"
      ]
     },
     "execution_count": 8,
     "metadata": {},
     "output_type": "execute_result"
    },
    {
     "data": {
      "image/png": "[encoded data removed]",
      "text/plain": [
       "<Figure size 432x288 with 1 Axes>"
      ]
     },
     "metadata": {
      "needs_background": "light"
     },
     "output_type": "display_data"
    }
   ],
   "source": [
    "N = len(x_n)\n",
    "x_fft = FFT(x_n, N)\n",
    "w = np.linspace(0,2*np.pi,N)\n",
    "\n",
    "plt.stem(w, np.absolute(x_fft))\n",
    "plt.title('FFT')\n",
    "plt.ylabel('Magnitude')\n",
    "plt.xlabel('Frequency (radians)')"
   ]
  },
  {
   "cell_type": "markdown",
   "id": "55a96359",
   "metadata": {},
   "source": [
    "#### Compare to DTFT"
   ]
  },
  {
   "cell_type": "markdown",
   "id": "b52914ac",
   "metadata": {},
   "source": [
    "The FFT get a really good approximation of the Discrete Fourier Transform without consuming so many computational resources. By plotting both magnitude plots we can observe that both functions output the same shape for the frequency spectrum. "
   ]
  },
  {
   "cell_type": "markdown",
   "id": "67477dae",
   "metadata": {},
   "source": [
    "### Audio Clip - DTFT vs FFT"
   ]
  },
  {
   "cell_type": "code",
   "execution_count": 9,
   "id": "4b1eb08d",
   "metadata": {},
   "outputs": [
    {
     "name": "stderr",
     "output_type": "stream",
     "text": [
      "<ipython-input-9-e747a8764ff2>:2: WavFileWarning: Chunk (non-data) not understood, skipping it.\n",
      "  fs_clip, y_clip = reader.read('./clip.wav')\n"
     ]
    },
    {
     "data": {
      "image/png": "[encoded data removed]",
      "text/plain": [
       "<Figure size 432x288 with 1 Axes>"
      ]
     },
     "metadata": {
      "needs_background": "light"
     },
     "output_type": "display_data"
    }
   ],
   "source": [
    "#Read audio file\n",
    "fs_clip, y_clip = reader.read('./clip.wav')\n",
    "\n",
    "#Take single channel\n",
    "mono_clip = y_clip[:,0].astype(np.float64)\n",
    "trimmed_clip = mono_clip[:8192]\n",
    "\n",
    "plot1 = plt.figure(1)\n",
    "plt.plot(mono_clip, color = \"orange\")\n",
    "plt.plot(trimmed_clip, color = \"green\")\n",
    "\n",
    "plt.title('Corcovado clip')\n",
    "plt.show()"
   ]
  },
  {
   "cell_type": "code",
   "execution_count": 10,
   "id": "cdeda696",
   "metadata": {},
   "outputs": [
    {
     "name": "stdout",
     "output_type": "stream",
     "text": [
      "Time:\n",
      "126.60297274589539\n"
     ]
    },
    {
     "data": {
      "text/plain": [
       "Text(0.5, 0, 'Frequency (radians)')"
      ]
     },
     "execution_count": 10,
     "metadata": {},
     "output_type": "execute_result"
    },
    {
     "data": {
      "image/png": "[encoded data removed]",
      "text/plain": [
       "<Figure size 432x288 with 1 Axes>"
      ]
     },
     "metadata": {
      "needs_background": "light"
     },
     "output_type": "display_data"
    }
   ],
   "source": [
    "N = len(trimmed_clip)\n",
    "w = np.linspace(0,2*np.pi,N)\n",
    "\n",
    "start = time.time()\n",
    "clip_fft = DTFT(trimmed_clip, N)\n",
    "end = time.time()\n",
    "print('Time:')\n",
    "print(end - start)\n",
    "\n",
    "plt.plot(w, np.absolute(clip_fft))\n",
    "plt.title('Clip DTFT')\n",
    "plt.ylabel('Magnitude')\n",
    "plt.xlabel('Frequency (radians)')"
   ]
  },
  {
   "cell_type": "code",
   "execution_count": 11,
   "id": "f3cda34d",
   "metadata": {},
   "outputs": [
    {
     "name": "stdout",
     "output_type": "stream",
     "text": [
      "Time:\n",
      "0.11031818389892578\n"
     ]
    },
    {
     "data": {
      "text/plain": [
       "Text(0.5, 0, 'Frequency (radians)')"
      ]
     },
     "execution_count": 11,
     "metadata": {},
     "output_type": "execute_result"
    },
    {
     "data": {
      "image/png": "[encoded data removed]",
      "text/plain": [
       "<Figure size 432x288 with 1 Axes>"
      ]
     },
     "metadata": {
      "needs_background": "light"
     },
     "output_type": "display_data"
    }
   ],
   "source": [
    "N = len(trimmed_clip)\n",
    "w = np.linspace(0,2*np.pi,N)\n",
    "\n",
    "start = time.time()\n",
    "clip_fft = FFT(trimmed_clip, N)\n",
    "end = time.time()\n",
    "print('Time:')\n",
    "print(end - start)\n",
    "\n",
    "plt.plot(w, np.absolute(clip_fft))\n",
    "plt.title('Clip FFT')\n",
    "plt.ylabel('Magnitude')\n",
    "plt.xlabel('Frequency (radians)')"
   ]
  },
  {
   "cell_type": "code",
   "execution_count": null,
   "id": "e0d0f335",
   "metadata": {},
   "outputs": [],
   "source": []
  },
  {
   "cell_type": "code",
   "execution_count": null,
   "id": "4a939391",
   "metadata": {},
   "outputs": [],
   "source": []
  }
 ],
 "metadata": {
  "kernelspec": {
   "display_name": "Python 3",
   "language": "python",
   "name": "python3"
  },
  "language_info": {
   "codemirror_mode": {
    "name": "ipython",
    "version": 3
   },
   "file_extension": ".py",
   "mimetype": "text/x-python",
   "name": "python",
   "nbconvert_exporter": "python",
   "pygments_lexer": "ipython3",
   "version": "3.8.8"
  }
 },
 "nbformat": 4,
 "nbformat_minor": 5
}
